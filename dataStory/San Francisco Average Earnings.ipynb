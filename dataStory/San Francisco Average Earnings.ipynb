{
 "cells": [
  {
   "cell_type": "code",
   "execution_count": 2,
   "metadata": {
    "collapsed": false
   },
   "outputs": [
    {
     "name": "stdout",
     "output_type": "stream",
     "text": [
      "Populating the interactive namespace from numpy and matplotlib\n"
     ]
    }
   ],
   "source": [
    "import requests\n",
    "import json\n",
    "# import prettytable\n",
    "import pandas as pd\n",
    "import matplotlib.pyplot as plt\n",
    "%pylab inline"
   ]
  },
  {
   "cell_type": "markdown",
   "metadata": {},
   "source": [
    "####State and Area Employment, Hours and Earnings (SM) \n",
    "\n",
    "http://download.bls.gov/pub/time.series/sm/\n",
    "\n",
    "from sm.txt, find series id for hourly earnings in private sector in california\n"
   ]
  },
  {
   "cell_type": "code",
   "execution_count": 3,
   "metadata": {
    "collapsed": false
   },
   "outputs": [],
   "source": [
    "# data_type_code\n",
    "lookup_dataType = pd.read_csv(\"smdata_type.txt\", delimiter=\"\\t\", index_col=False)\n",
    "earnings = lookup_dataType[lookup_dataType.data_type_text.str.contains(\"Hourly Earnings of All Employees\")].data_type_code\n",
    "hours = lookup_dataType[lookup_dataType.data_type_text.str.contains(\"Weekly Hours of All Employees\")].data_type_code\n",
    "\n",
    "# area_code\n",
    "lookup_areaCode = pd.read_csv(\"smarea.txt\", delimiter=\"\\t\", index_col=False)\n",
    "area = lookup_areaCode[lookup_areaCode.area_name.str.contains(\"San Francisco\")].area_code\n",
    "\n",
    "# industry_code, don't need for SF because industry is Total Private\n",
    "# lookup_industry = pd.read_csv(\"smindustry.txt\", delimiter=\"\\t\", index_col=False)"
   ]
  },
  {
   "cell_type": "code",
   "execution_count": 5,
   "metadata": {
    "collapsed": false
   },
   "outputs": [],
   "source": [
    "#find series to post requests\n",
    "series = pd.read_csv(\"smseries.txt\", delim_whitespace=True)\n",
    "series_earnings = series[series.data_type_code.isin(earnings.values) & \\\n",
    "                         (series.industry_code == 5000000) & (series.state_code == 6)].series_id.values\n",
    "# sf : series.area_code.isin(area.values) & \\\n",
    "# series_hours = series[series.area_code.isin(area.values) & \\\n",
    "#                       (series.industry_code == 5000000) & (series.state_code == 6)].series_id.values"
   ]
  },
  {
   "cell_type": "code",
   "execution_count": 6,
   "metadata": {
    "collapsed": false
   },
   "outputs": [],
   "source": [
    "def get_data(seriesid_array):\n",
    "    headers = {'Content-type': 'application/json'}\n",
    "    data = json.dumps({\"seriesid\": list(seriesid_array), 'registrationKey': 'a4c5b701a8604c5a98f3e4a92a83c4f6',\n",
    "                      \"startyear\": \"2000\", \"endyear\": \"2015\"})\n",
    "    #multiple series id use post\n",
    "    p = requests.post('http://api.bls.gov/publicAPI/v2/timeseries/data/', data=data, headers=headers)\n",
    "    json_data = json.loads(p.text) \n",
    "    df = pd.DataFrame(columns=[\"series id\",\"year\",\"period\",\"value\",\"footnotes\"])\n",
    "    i = 0\n",
    "    for s in json_data['Results']['series']:\n",
    "        seriesId = s['seriesID']\n",
    "        for item in s['data']:\n",
    "            year = item['year']\n",
    "            period = item['period']\n",
    "            value = item['value']\n",
    "            footnotes=\"\"\n",
    "            for footnote in item['footnotes']:\n",
    "                if footnote:\n",
    "                    footnotes = footnotes + footnote['text'] + ','\n",
    "           #'if 'M01' <= period <= 'M12':'\n",
    "                df.loc[i] = (seriesId,year,period,value,footnotes[0:-1])\n",
    "                i+=1\n",
    "    return df\n",
    "#     output = open(seriesId + '.txt','w')\n",
    "#     output.write (x.get_string())\n",
    "#     output.close()"
   ]
  },
  {
   "cell_type": "code",
   "execution_count": 7,
   "metadata": {
    "collapsed": true
   },
   "outputs": [],
   "source": [
    "df_earn = get_data(series_earnings)\n",
    "df1 = pd.merge(df_earn, series[['series_id', 'state_code', 'area_code']], \n",
    "             left_on = \"series id\", right_on = \"series_id\")\n",
    "df1.value = df1.value.astype(float)\n",
    "df1.year = df1.year.astype(int)"
   ]
  },
  {
   "cell_type": "markdown",
   "metadata": {},
   "source": [
    "find trends between years and location and within/between years"
   ]
  },
  {
   "cell_type": "code",
   "execution_count": 10,
   "metadata": {
    "collapsed": false,
    "scrolled": true
   },
   "outputs": [],
   "source": [
    "avg_yr_area = df1.groupby(['year', 'area_code']).value.mean().unstack()\n",
    "avg_yr_month = df1.groupby(['year', 'period']).value.mean().unstack()\n",
    "# avg_yr_month.sub(avg_yr_month.loc[2007]) # avg_yr_month.diff()"
   ]
  },
  {
   "cell_type": "markdown",
   "metadata": {},
   "source": [
    "Histogram of earnings by year (use subplots)"
   ]
  },
  {
   "cell_type": "code",
   "execution_count": 9,
   "metadata": {
    "collapsed": false
   },
   "outputs": [
    {
     "data": {
      "text/plain": [
       "<matplotlib.axes._subplots.AxesSubplot at 0x7fe409dce278>"
      ]
     },
     "execution_count": 9,
     "metadata": {},
     "output_type": "execute_result"
    },
    {
     "data": {
      "image/png": "[encoded data removed]",
      "text/plain": [
       "<matplotlib.figure.Figure at 0x7fe425a08ef0>"
      ]
     },
     "metadata": {},
     "output_type": "display_data"
    }
   ],
   "source": [
    "# plot histogram for each year, holding x axis fixed\n",
    "df1[df1.year == 2014].value.plot(kind=\"hist\")"
   ]
  },
  {
   "cell_type": "markdown",
   "metadata": {},
   "source": [
    "compare earnings by location"
   ]
  },
  {
   "cell_type": "code",
   "execution_count": 11,
   "metadata": {
    "collapsed": false
   },
   "outputs": [],
   "source": [
    "# plt.plot(avg_yr_area.index.values, avg_yr_area)"
   ]
  },
  {
   "cell_type": "markdown",
   "metadata": {},
   "source": [
    "scatterplot\n",
    "\n",
    "time series plot of by major metropolitan areas\n",
    "\n",
    "Having made these plots, what are some insights you get from them? Do you see any correlations? Is there a hypothesis you would like to investigate further? What other questions do they lead you to ask?\n",
    "\n",
    "By now you’ve asked a bunch of questions, and found some neat insights. Is there an interesting narrative, a way of presenting the insights using text and plots from the above, that tells a compelling story? As you work out this story, what are some other trends/relationships you think will make it more complete? population will help determing national average. \n"
   ]
  }
 ],
 "metadata": {
  "kernelspec": {
   "display_name": "Python 3",
   "language": "python",
   "name": "python3"
  },
  "language_info": {
   "codemirror_mode": {
    "name": "ipython",
    "version": 3
   },
   "file_extension": ".py",
   "mimetype": "text/x-python",
   "name": "python",
   "nbconvert_exporter": "python",
   "pygments_lexer": "ipython3",
   "version": "3.4.3"
  }
 },
 "nbformat": 4,
 "nbformat_minor": 0
}
